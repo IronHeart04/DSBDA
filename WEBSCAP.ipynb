{
 "cells": [
  {
   "cell_type": "code",
   "execution_count": 1,
   "id": "912b7d3c",
   "metadata": {},
   "outputs": [],
   "source": [
    "import requests\n",
    "import bs4"
   ]
  },
  {
   "cell_type": "code",
   "execution_count": 5,
   "id": "ad30347e",
   "metadata": {},
   "outputs": [
    {
     "data": {
      "text/plain": [
       "<Response [200]>"
      ]
     },
     "execution_count": 5,
     "metadata": {},
     "output_type": "execute_result"
    }
   ],
   "source": [
    "var1=requests.get('https://www.flipkart.com/mivi-duopods-f40-50-hrs-playtime-i13mm-drivers-made-india-deep-bass-bluetooth-headset/p/itm449ac3ef48693?pid=ACCGEDK6YNDFEW97&lid=LSTACCGEDK6YNDFEW977W1N8K&marketplace=FLIPKART&q=earbuds+wireless&store=0pm%2Ffcn%2F821%2Fa7x%2F2si&srno=s_1_2&otracker=AS_QueryStore_OrganicAutoSuggest_1_17_na_na_ps&otracker1=AS_QueryStore_OrganicAutoSuggest_1_17_na_na_ps&fm=search-autosuggest&iid=en_UPgQm6WBN5Cmj5QrfuBE8Cdk3sr53lvEwp48EYCKLSbpMcMWMu%2FSM7QUOOzAx0tBDhJ%2F9TDO2OH8CNpzIpKlRg%3D%3D&ppt=sp&ppn=sp&ssid=j907kb2zyo0000001685067579080&qH=b82223fef6c5ecbe')\n",
    "\n",
    "var1"
   ]
  },
  {
   "cell_type": "code",
   "execution_count": 6,
   "id": "9150ce82",
   "metadata": {},
   "outputs": [],
   "source": [
    "var2=bs4.BeautifulSoup(var1.text)\n"
   ]
  },
  {
   "cell_type": "code",
   "execution_count": 7,
   "id": "ae58083f",
   "metadata": {},
   "outputs": [
    {
     "data": {
      "text/plain": [
       "'3.8'"
      ]
     },
     "execution_count": 7,
     "metadata": {},
     "output_type": "execute_result"
    }
   ],
   "source": [
    "overall=var2.find('div',{'class':'_2d4LTz'}).get_text()\n",
    "overall"
   ]
  },
  {
   "cell_type": "code",
   "execution_count": 8,
   "id": "8a8372a2",
   "metadata": {},
   "outputs": [],
   "source": [
    "individual_ratings= var2.find_all('div',{'class':'_3LWZlK _1BLPMq'})\n"
   ]
  },
  {
   "cell_type": "code",
   "execution_count": 9,
   "id": "4a1cde22",
   "metadata": {},
   "outputs": [
    {
     "name": "stdout",
     "output_type": "stream",
     "text": [
      "5\n",
      "\n",
      "5\n",
      "\n",
      "5\n",
      "\n",
      "5\n",
      "\n",
      "4\n",
      "\n",
      "5\n",
      "\n",
      "5\n",
      "\n",
      "5\n",
      "\n"
     ]
    }
   ],
   "source": [
    "for ind_rating in individual_ratings:print(ind_rating.get_text()+\"\\n\")\n"
   ]
  },
  {
   "cell_type": "code",
   "execution_count": 10,
   "id": "e6a43330",
   "metadata": {},
   "outputs": [
    {
     "name": "stdout",
     "output_type": "stream",
     "text": [
      "Flipkart Customer\n",
      "\n",
      "antriksh sharma\n",
      "\n",
      "Aviral Gupta\n",
      "\n",
      "Abhi Mahadik\n",
      "\n",
      "Sahil Khan\n",
      "\n",
      "Mahiya Golder\n",
      "\n",
      "Simran  Pal\n",
      "\n",
      "Satendra  Pal\n",
      "\n",
      "Kuldeep  .\n",
      "\n",
      "Sameer  Verma\n",
      "\n"
     ]
    }
   ],
   "source": [
    "customer_names=var2.find_all('p',{'class':'_2sc7ZR _2V5EHH'});\n",
    "for cust_names in customer_names:print(cust_names.get_text() + \"\\n\")"
   ]
  },
  {
   "cell_type": "code",
   "execution_count": null,
   "id": "f8756316",
   "metadata": {},
   "outputs": [],
   "source": []
  }
 ],
 "metadata": {
  "kernelspec": {
   "display_name": "Python 3 (ipykernel)",
   "language": "python",
   "name": "python3"
  },
  "language_info": {
   "codemirror_mode": {
    "name": "ipython",
    "version": 3
   },
   "file_extension": ".py",
   "mimetype": "text/x-python",
   "name": "python",
   "nbconvert_exporter": "python",
   "pygments_lexer": "ipython3",
   "version": "3.10.9"
  }
 },
 "nbformat": 4,
 "nbformat_minor": 5
}
